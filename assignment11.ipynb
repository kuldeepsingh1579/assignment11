{
 "cells": [
  {
   "cell_type": "raw",
   "id": "072a5452-d8f2-4a83-9a8c-5fa62d3e20ad",
   "metadata": {},
   "source": [
    "Question-no.1"
   ]
  },
  {
   "cell_type": "raw",
   "id": "e3dfa7ea-16e2-4fae-9fc0-069c829177f7",
   "metadata": {},
   "source": [
    "In Python, the open() function is used to open a file. It takes two parameters: the file path(file name) and the mode in which the file should be opened.\n",
    "There are the different modes to open a file in python-->\n",
    "1-Read Only (‘r’) : Open text file for reading.\n",
    "2-Read and Write (‘r+’): Open the file for reading and writing.\n",
    "3-Write Only (‘w’) : Open the file for writing. For the existing files, the data is truncated and over-written\n",
    "4-Append Only (‘a’): Open the file for writing\n",
    "5-Append and Read (‘a+’) : Open the file for reading and writing.\n",
    "6-Write and Read (‘w+’) : Open the file for reading and writing."
   ]
  },
  {
   "cell_type": "code",
   "execution_count": 3,
   "id": "f093c388-da14-48b6-b9c3-809963318bdc",
   "metadata": {},
   "outputs": [
    {
     "name": "stdout",
     "output_type": "stream",
     "text": [
      "Hello, World!\n",
      "Appending new data.\n"
     ]
    }
   ],
   "source": [
    "# Open a file in read mode\n",
    "file = open('example.txt', 'r')\n",
    "data = file.read()\n",
    "print(data)\n",
    "file.close()\n",
    "\n",
    "# Open a file in write mode\n",
    "file = open('example.txt', 'w')\n",
    "file.write('Hello, World!')\n",
    "file.close()\n",
    "\n",
    "# Open a file in append mode\n",
    "file = open('example.txt', 'a')\n",
    "file.write('\\nAppending new data.')\n",
    "file.close()\n"
   ]
  },
  {
   "cell_type": "markdown",
   "id": "8e4cf00d-3472-400a-8b76-120c676accac",
   "metadata": {},
   "source": [
    "Question-No.2"
   ]
  },
  {
   "cell_type": "raw",
   "id": "2e7de642-d2a8-4db0-b040-ffc6a148c14d",
   "metadata": {},
   "source": [
    "The close() function is used to close a file that has been opened using the open() function in Python.Without closing the file we can't hold the data into the memoery.It is important to close a file after you have finished working with it for several reasons:\n",
    "1-Resource Management\n",
    "2-Data Intgrity \n",
    "3-File Locking"
   ]
  },
  {
   "cell_type": "markdown",
   "id": "c2ff9140-16b9-4a61-a6d7-386b1da449a3",
   "metadata": {},
   "source": [
    "Question-3"
   ]
  },
  {
   "cell_type": "code",
   "execution_count": 6,
   "id": "64a429ee-8525-4884-9c95-e3c38ff55341",
   "metadata": {},
   "outputs": [
    {
     "name": "stdout",
     "output_type": "stream",
     "text": [
      "I want to become a Data Scientist\n"
     ]
    }
   ],
   "source": [
    "file_name = 'data_scientist.txt'\n",
    "# Open the file in write mode \n",
    "with open(file_name, 'w') as file:\n",
    "    file.write('I want to become a Data Scientist')\n",
    "    file.close()\n",
    "\n",
    "# Open the file in read mode\n",
    "with open(file_name, 'r') as file:\n",
    "    content = file.read()\n",
    "\n",
    "print(content)\n"
   ]
  },
  {
   "cell_type": "markdown",
   "id": "848e2267-5dea-440c-a633-8e88a421839a",
   "metadata": {},
   "source": [
    "Question-No.4"
   ]
  },
  {
   "cell_type": "raw",
   "id": "1a3fe5e8-2f3f-4b57-b339-b25c7de837f5",
   "metadata": {},
   "source": [
    "1-read(): The read() method is used to read the entire content of a file as a single string.\n",
    "\n",
    "2-readline(): The readline() method is used to read a single line from a file.\n",
    "\n",
    "3-readlines(): The readlines() method is used to read all the lines of a file and return them as a list of strings.\n",
    "\n",
    "Example of these python code are given below"
   ]
  },
  {
   "cell_type": "code",
   "execution_count": 14,
   "id": "955759f7-ae31-447b-8e63-7357924940cb",
   "metadata": {},
   "outputs": [
    {
     "name": "stdout",
     "output_type": "stream",
     "text": [
      "When a Python program meets an error, it stops the execution of the rest of the program. An error in Python might be either an error in the syntax of an expression or a Python exception. We will see what an exception is. Also, we will see the difference between a syntax error and an exception in this tutorial. Following that, we will learn about trying and except blocks and how to raise exceptions and make assertions. After that, we will see the Python exceptions list.\n",
      "When a Python program meets an error, it stops the execution of the rest of the program. An error in\n",
      "['When a Python program meets an error, it stops the execution of the rest of the program. An error in Python might be either an error in the syntax of an expression or a Python exception. We will see what an exception is. Also, we will see the difference between a syntax error and an exception in this tutorial. Following that, we will learn about trying and except blocks and how to raise exceptions and make assertions. After that, we will see the Python exceptions list.']\n"
     ]
    }
   ],
   "source": [
    "file= \"kuldeep.txt\"\n",
    "with open(file, 'w') as file:\n",
    "    file.write(\"When a Python program meets an error, it stops the execution of the rest of the program. An error in Python might be either an error in the syntax of an expression or a Python exception. We will see what an exception is. Also, we will see the difference between a syntax error and an exception in this tutorial. Following that, we will learn about trying and except blocks and how to raise exceptions and make assertions. After that, we will see the Python exceptions list.\")\n",
    "    file.close()\n",
    "    \n",
    "# open the file in read() mode\n",
    "with open(\"kuldeep.txt\", 'r') as file:\n",
    "    content= file.read()\n",
    "print(content)\n",
    "\n",
    "# open file in readline() mode\n",
    "with open(\"kuldeep.txt\", 'r') as file:\n",
    "    data=file.readline(100)\n",
    "print(data)\n",
    "\n",
    "# open file in readlines() mode\n",
    "with open(\"kuldeep.txt\", 'r') as file:\n",
    "    data1=file.readlines()\n",
    "print(data1)"
   ]
  },
  {
   "cell_type": "markdown",
   "id": "c7a4808d-68b4-4b62-810b-bfa2679b870c",
   "metadata": {},
   "source": [
    "Question-No.5"
   ]
  },
  {
   "cell_type": "raw",
   "id": "159a3b1f-5b4c-4ffe-97e2-a789e5f4a4e5",
   "metadata": {},
   "source": [
    "The with statement in Python is used in conjunction with the open() function when working with files. It provides a way to ensure that clean-up or resource release actions are taken care of, regardless of whether the code block is executed successfully or if an exception is raised.\n",
    "\n",
    "The advantage of using the with statement with open() is that it automatically takes care of opening and closing the file, ensuring that system resources are properly managed. The with statement guarantees that the file will be closed, even if an exception occurs within the block."
   ]
  },
  {
   "cell_type": "markdown",
   "id": "4620b2ac-8934-4212-8a7f-998b8a43bdc0",
   "metadata": {},
   "source": [
    "Question-No.6"
   ]
  },
  {
   "cell_type": "raw",
   "id": "04919ac3-c0c2-4ad7-843c-56ddc36bcc07",
   "metadata": {},
   "source": [
    "1-write(): The write() function is used to write a string of characters to a file.\n",
    "\n",
    "2-writelines(): The writelines() function is used to write a list of strings to a file. Each string in the list represents a line in the file."
   ]
  },
  {
   "cell_type": "code",
   "execution_count": 15,
   "id": "c00fb593-1d9e-429e-8c01-6b5cd5cc9a42",
   "metadata": {},
   "outputs": [],
   "source": [
    "lines = ['Line 1\\n', 'Line 2\\n', 'Line 3\\n']\n",
    "\n",
    "# Open the file in write mode\n",
    "with open('example1.txt', 'w') as file:\n",
    "    file.writelines(lines)\n",
    "\n",
    "# The lines have been written to the file\n"
   ]
  },
  {
   "cell_type": "code",
   "execution_count": null,
   "id": "178ac5e6-77f5-461c-8527-91b28c4a0287",
   "metadata": {},
   "outputs": [],
   "source": []
  }
 ],
 "metadata": {
  "kernelspec": {
   "display_name": "Python 3 (ipykernel)",
   "language": "python",
   "name": "python3"
  },
  "language_info": {
   "codemirror_mode": {
    "name": "ipython",
    "version": 3
   },
   "file_extension": ".py",
   "mimetype": "text/x-python",
   "name": "python",
   "nbconvert_exporter": "python",
   "pygments_lexer": "ipython3",
   "version": "3.10.8"
  }
 },
 "nbformat": 4,
 "nbformat_minor": 5
}
